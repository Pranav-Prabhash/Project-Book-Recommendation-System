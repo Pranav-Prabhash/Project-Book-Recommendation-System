{
 "cells": [
  {
   "cell_type": "code",
   "execution_count": 1,
   "metadata": {},
   "outputs": [],
   "source": [
    "import pandas as pd \n",
    "import numpy as np \n",
    "#from sklearn import *\n",
    "import pickle"
   ]
  },
  {
   "cell_type": "code",
   "execution_count": 3,
   "metadata": {},
   "outputs": [],
   "source": [
    "us_canada_user_rating_pivot2=pd.read_csv(\"C:\\\\Users\\\\Anith\\\\Downloads\\\\books 2 books\\\\us_canada_user_rating_pivot2.csv\")"
   ]
  },
  {
   "cell_type": "code",
   "execution_count": null,
   "metadata": {},
   "outputs": [],
   "source": [
    "X = us_canada_user_rating_pivot2.values.T"
   ]
  },
  {
   "cell_type": "code",
   "execution_count": null,
   "metadata": {},
   "outputs": [],
   "source": [
    "SVD=pickle.load(open('C:\\\\Users\\\\Anith\\\\Downloads\\\\books 2 books\\\\model.sav','rb'))\n"
   ]
  },
  {
   "cell_type": "code",
   "execution_count": null,
   "metadata": {},
   "outputs": [
    {
     "data": {
      "text/plain": [
       "array([[ 1.        ,  0.10619813, -0.08190693, ...,  0.09929695,\n",
       "         0.14636625,  0.07960793],\n",
       "       [ 0.10619813,  1.        , -0.13087072, ...,  0.89253796,\n",
       "         0.33951568,  0.35470034],\n",
       "       [-0.08190693, -0.13087072,  1.        , ...,  0.05263549,\n",
       "         0.04400319,  0.0637773 ],\n",
       "       ...,\n",
       "       [ 0.09929695,  0.89253796,  0.05263549, ...,  1.        ,\n",
       "         0.3937397 ,  0.38323915],\n",
       "       [ 0.14636625,  0.33951568,  0.04400319, ...,  0.3937397 ,\n",
       "         1.        ,  0.9651978 ],\n",
       "       [ 0.07960793,  0.35470034,  0.0637773 , ...,  0.38323915,\n",
       "         0.9651978 ,  1.        ]])"
      ]
     },
     "execution_count": 14,
     "metadata": {},
     "output_type": "execute_result"
    }
   ],
   "source": [
    "matrix=SVD.fit_transform(X)\n",
    "matrix.shape\n",
    "corr = np.corrcoef(matrix)\n",
    "corr"
   ]
  },
  {
   "cell_type": "code",
   "execution_count": null,
   "metadata": {},
   "outputs": [],
   "source": [
    "us_canada_book_title = us_canada_user_rating_pivot2.columns\n",
    "us_canada_book_list = list(us_canada_book_title)"
   ]
  },
  {
   "cell_type": "code",
   "execution_count": null,
   "metadata": {},
   "outputs": [],
   "source": [
    "def similar_books():\n",
    "    book_name=str(input(\"enter the name of book the above list\"))\n",
    "    coffey_hands = us_canada_book_list.index(book_name)\n",
    "    corr_coffey_hands  = corr[coffey_hands]\n",
    "    l=list(us_canada_book_title[(corr_coffey_hands<1.0) & (corr_coffey_hands>0.9)])\n",
    "    return l"
   ]
  },
  {
   "cell_type": "code",
   "execution_count": null,
   "metadata": {},
   "outputs": [
    {
     "data": {
      "text/plain": [
       "['Absolute Power',\n",
       " 'Atlantis Found',\n",
       " 'Black Friday',\n",
       " 'Black Sunday',\n",
       " 'Blood Work',\n",
       " \"Breaking Point (Tom Clancy's Net Force, No. 4)\",\n",
       " 'Call of the Wild',\n",
       " 'Caribbean',\n",
       " 'Cat and Mouse',\n",
       " 'Cause of Death',\n",
       " 'Chromosome 6',\n",
       " 'Clear and Present Danger (Jack Ryan Novels)',\n",
       " 'Code to Zero',\n",
       " 'Congo',\n",
       " 'Critical Mass',\n",
       " 'Dark Lady',\n",
       " 'Deadly Decisions',\n",
       " 'Debt of Honor (Jack Ryan Novels)',\n",
       " 'Disclosure',\n",
       " 'Dust to Dust',\n",
       " 'Eaters of the Dead',\n",
       " 'Eyes of a Child',\n",
       " 'Fatal Voyage',\n",
       " 'Gone But Not Forgotten',\n",
       " 'Hearts in Atlantis',\n",
       " \"Hornet's Nest\",\n",
       " 'Invasion',\n",
       " 'It Was on Fire When I Lay Down on It',\n",
       " 'Koko',\n",
       " 'Legal Tender',\n",
       " 'Let Me Call You Sweetheart',\n",
       " \"Life's Little Instruction Book (Life's Little Instruction Books (Paperback))\",\n",
       " 'Men Are from Mars, Women Are from Venus: A Practical Guide for Improving Communication and Getting What You Want in Your Relationships',\n",
       " 'Mistaken Identity',\n",
       " 'Patriot Games',\n",
       " 'Personal Injuries',\n",
       " 'Plum Island',\n",
       " 'Rainbow Six',\n",
       " 'Saving Faith',\n",
       " \"Serpent's Tooth : A Peter Decker/Rina Lazarus Novel (Peter Decker &amp; Rina Lazarus Novels (Paperback))\",\n",
       " 'Silent Witness',\n",
       " 'Stardust',\n",
       " 'The Andromeda Strain',\n",
       " 'The Associate',\n",
       " 'The Bear and the Dragon (Jack Ryan Novels)',\n",
       " 'The Burden of Proof',\n",
       " \"The Devil's Code\",\n",
       " \"The General's Daughter\",\n",
       " 'The Hunt for Red October',\n",
       " 'The Loop',\n",
       " 'The Lost World',\n",
       " 'The Lottery Winner : Alvirah And Willy Stories',\n",
       " 'The Midnight Club',\n",
       " 'The Night Crew',\n",
       " \"The Plains of Passage (Earth's Children (Paperback))\",\n",
       " 'The Poet',\n",
       " 'The Power of One',\n",
       " 'The Quiet Game',\n",
       " 'The Road to Omaha',\n",
       " 'The Simple Truth',\n",
       " 'The Sum of All Fears (Jack Ryan Novels)',\n",
       " 'The Terminal Man',\n",
       " \"Tom Clancy's Op-Center Balance of Power (Tom Clancy's Op Center (Paperback))\",\n",
       " \"Tom Clancy's Op-Center: Line of Control (Tom Clancy's Op Center (Paperback))\",\n",
       " \"Tom Clancy's Op-Center: Mirror Image (Tom Clancy's Op Center (Paperback))\",\n",
       " 'Total Control',\n",
       " 'Undue Influence',\n",
       " 'Vertical Run',\n",
       " 'Windmills of the Gods',\n",
       " 'Without Remorse',\n",
       " 'YOU BELONG TO ME']"
      ]
     },
     "execution_count": 17,
     "metadata": {},
     "output_type": "execute_result"
    }
   ],
   "source": [
    "similar_books()"
   ]
  },
  {
   "cell_type": "code",
   "execution_count": null,
   "metadata": {},
   "outputs": [],
   "source": []
  }
 ],
 "metadata": {
  "kernelspec": {
   "display_name": "base",
   "language": "python",
   "name": "python3"
  },
  "language_info": {
   "codemirror_mode": {
    "name": "ipython",
    "version": 3
   },
   "file_extension": ".py",
   "mimetype": "text/x-python",
   "name": "python",
   "nbconvert_exporter": "python",
   "pygments_lexer": "ipython3",
   "version": "3.11.5"
  }
 },
 "nbformat": 4,
 "nbformat_minor": 2
}
